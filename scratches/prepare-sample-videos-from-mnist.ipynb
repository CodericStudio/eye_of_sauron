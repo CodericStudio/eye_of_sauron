{
 "cells": [
  {
   "cell_type": "code",
   "execution_count": 22,
   "metadata": {},
   "outputs": [],
   "source": [
    "%matplotlib inline\n",
    "\n",
    "import matplotlib.pyplot as plt\n",
    "import cv2\n",
    "import pickle\n",
    "import gzip\n",
    "import numpy as np\n",
    "import skvideo\n",
    "skvideo.setFFmpegPath(\"C:\\\\Program Files\\\\ffmpeg-4.0.2-win64-static\\\\bin\\\\\")\n",
    "import skvideo.io\n",
    "import skvideo.io\n",
    "import os\n",
    "from kafka import SimpleProducer, KafkaClient\n",
    "NCAMS = 100"
   ]
  },
  {
   "cell_type": "code",
   "execution_count": 23,
   "metadata": {},
   "outputs": [],
   "source": [
    "#!wget http://deeplearning.net/data/mnist/mnist.pkl.gz"
   ]
  },
  {
   "cell_type": "code",
   "execution_count": 24,
   "metadata": {},
   "outputs": [],
   "source": [
    "def mnist_images_labels(nsplits=NCAMS):\n",
    "    with gzip.open('../data/mnist.pkl.gz', 'rb') as f:\n",
    "        u = pickle._Unpickler(f)\n",
    "        u.encoding = 'latin1'\n",
    "        train_set, valid_set, test_set = u.load()\n",
    "    \n",
    "    trainx, trainy = train_set\n",
    "    valx, valy = valid_set\n",
    "    \n",
    "    images = np.concatenate([trainx.reshape(-1, 28, 28, 1), valx.reshape(-1, 28, 28, 1)])\n",
    "    labels = np.concatenate([trainy, valy])\n",
    "    \n",
    "    \n",
    "    splits_images = np.split(images, nsplits)\n",
    "    splits_labels = np.split(labels, nsplits)\n",
    "    \n",
    "    for i, l in zip(splits_images, splits_labels):\n",
    "        print(i.shape, l.shape)\n",
    "    \n",
    "    return splits_images, splits_labels"
   ]
  },
  {
   "cell_type": "code",
   "execution_count": 25,
   "metadata": {},
   "outputs": [
    {
     "name": "stdout",
     "output_type": "stream",
     "text": [
      "(600, 28, 28, 1) (600,)\n",
      "(600, 28, 28, 1) (600,)\n",
      "(600, 28, 28, 1) (600,)\n",
      "(600, 28, 28, 1) (600,)\n",
      "(600, 28, 28, 1) (600,)\n",
      "(600, 28, 28, 1) (600,)\n",
      "(600, 28, 28, 1) (600,)\n",
      "(600, 28, 28, 1) (600,)\n",
      "(600, 28, 28, 1) (600,)\n",
      "(600, 28, 28, 1) (600,)\n",
      "(600, 28, 28, 1) (600,)\n",
      "(600, 28, 28, 1) (600,)\n",
      "(600, 28, 28, 1) (600,)\n",
      "(600, 28, 28, 1) (600,)\n",
      "(600, 28, 28, 1) (600,)\n",
      "(600, 28, 28, 1) (600,)\n",
      "(600, 28, 28, 1) (600,)\n",
      "(600, 28, 28, 1) (600,)\n",
      "(600, 28, 28, 1) (600,)\n",
      "(600, 28, 28, 1) (600,)\n",
      "(600, 28, 28, 1) (600,)\n",
      "(600, 28, 28, 1) (600,)\n",
      "(600, 28, 28, 1) (600,)\n",
      "(600, 28, 28, 1) (600,)\n",
      "(600, 28, 28, 1) (600,)\n",
      "(600, 28, 28, 1) (600,)\n",
      "(600, 28, 28, 1) (600,)\n",
      "(600, 28, 28, 1) (600,)\n",
      "(600, 28, 28, 1) (600,)\n",
      "(600, 28, 28, 1) (600,)\n",
      "(600, 28, 28, 1) (600,)\n",
      "(600, 28, 28, 1) (600,)\n",
      "(600, 28, 28, 1) (600,)\n",
      "(600, 28, 28, 1) (600,)\n",
      "(600, 28, 28, 1) (600,)\n",
      "(600, 28, 28, 1) (600,)\n",
      "(600, 28, 28, 1) (600,)\n",
      "(600, 28, 28, 1) (600,)\n",
      "(600, 28, 28, 1) (600,)\n",
      "(600, 28, 28, 1) (600,)\n",
      "(600, 28, 28, 1) (600,)\n",
      "(600, 28, 28, 1) (600,)\n",
      "(600, 28, 28, 1) (600,)\n",
      "(600, 28, 28, 1) (600,)\n",
      "(600, 28, 28, 1) (600,)\n",
      "(600, 28, 28, 1) (600,)\n",
      "(600, 28, 28, 1) (600,)\n",
      "(600, 28, 28, 1) (600,)\n",
      "(600, 28, 28, 1) (600,)\n",
      "(600, 28, 28, 1) (600,)\n",
      "(600, 28, 28, 1) (600,)\n",
      "(600, 28, 28, 1) (600,)\n",
      "(600, 28, 28, 1) (600,)\n",
      "(600, 28, 28, 1) (600,)\n",
      "(600, 28, 28, 1) (600,)\n",
      "(600, 28, 28, 1) (600,)\n",
      "(600, 28, 28, 1) (600,)\n",
      "(600, 28, 28, 1) (600,)\n",
      "(600, 28, 28, 1) (600,)\n",
      "(600, 28, 28, 1) (600,)\n",
      "(600, 28, 28, 1) (600,)\n",
      "(600, 28, 28, 1) (600,)\n",
      "(600, 28, 28, 1) (600,)\n",
      "(600, 28, 28, 1) (600,)\n",
      "(600, 28, 28, 1) (600,)\n",
      "(600, 28, 28, 1) (600,)\n",
      "(600, 28, 28, 1) (600,)\n",
      "(600, 28, 28, 1) (600,)\n",
      "(600, 28, 28, 1) (600,)\n",
      "(600, 28, 28, 1) (600,)\n",
      "(600, 28, 28, 1) (600,)\n",
      "(600, 28, 28, 1) (600,)\n",
      "(600, 28, 28, 1) (600,)\n",
      "(600, 28, 28, 1) (600,)\n",
      "(600, 28, 28, 1) (600,)\n",
      "(600, 28, 28, 1) (600,)\n",
      "(600, 28, 28, 1) (600,)\n",
      "(600, 28, 28, 1) (600,)\n",
      "(600, 28, 28, 1) (600,)\n",
      "(600, 28, 28, 1) (600,)\n",
      "(600, 28, 28, 1) (600,)\n",
      "(600, 28, 28, 1) (600,)\n",
      "(600, 28, 28, 1) (600,)\n",
      "(600, 28, 28, 1) (600,)\n",
      "(600, 28, 28, 1) (600,)\n",
      "(600, 28, 28, 1) (600,)\n",
      "(600, 28, 28, 1) (600,)\n",
      "(600, 28, 28, 1) (600,)\n",
      "(600, 28, 28, 1) (600,)\n",
      "(600, 28, 28, 1) (600,)\n",
      "(600, 28, 28, 1) (600,)\n",
      "(600, 28, 28, 1) (600,)\n",
      "(600, 28, 28, 1) (600,)\n",
      "(600, 28, 28, 1) (600,)\n",
      "(600, 28, 28, 1) (600,)\n",
      "(600, 28, 28, 1) (600,)\n",
      "(600, 28, 28, 1) (600,)\n",
      "(600, 28, 28, 1) (600,)\n",
      "(600, 28, 28, 1) (600,)\n",
      "(600, 28, 28, 1) (600,)\n"
     ]
    }
   ],
   "source": [
    "splits_images, splits_labels = mnist_images_labels()"
   ]
  },
  {
   "cell_type": "code",
   "execution_count": 26,
   "metadata": {},
   "outputs": [],
   "source": [
    "for i, l in enumerate(splits_labels):\n",
    "    np.save(\"label{}.npy\".format(i), l)"
   ]
  },
  {
   "cell_type": "code",
   "execution_count": 27,
   "metadata": {},
   "outputs": [
    {
     "name": "stdout",
     "output_type": "stream",
     "text": [
      "7\n"
     ]
    }
   ],
   "source": [
    "choice = np.random.randint(0, 60000//NCAMS)\n",
    "label = splits_labels[2][choice]\n",
    "pixels = splits_images[2][choice]\n",
    "\n",
    "print(label)"
   ]
  },
  {
   "cell_type": "code",
   "execution_count": 28,
   "metadata": {},
   "outputs": [],
   "source": [
    "def show_num(pixels, label=None):\n",
    "    # Reshape the array into 28 x 28 array (2-dimensional array)\n",
    "    pixels = pixels.reshape((28, 28))\n",
    "\n",
    "    # Plot\n",
    "    plt.title('Label is {label}'.format(label=label))\n",
    "    plt.imshow(pixels, cmap='gray')\n",
    "    plt.show()"
   ]
  },
  {
   "cell_type": "code",
   "execution_count": 29,
   "metadata": {},
   "outputs": [
    {
     "data": {
      "image/png": "[encoded data removed]",
      "text/plain": [
       "<Figure size 432x288 with 1 Axes>"
      ]
     },
     "metadata": {},
     "output_type": "display_data"
    }
   ],
   "source": [
    "show_num(pixels, label)"
   ]
  },
  {
   "cell_type": "code",
   "execution_count": 30,
   "metadata": {},
   "outputs": [],
   "source": [
    "# FPS = 2\n",
    "\n",
    "# def convert_frames_to_video(frame_array, out_name, fps=10):\n",
    "\n",
    "#     height, width, layers = frame_array[0].shape\n",
    "#     size = (width, height)\n",
    "#     out = cv2.VideoWriter(out_name, cv2.VideoWriter_fourcc(*'DIVX'), fps, size)\n",
    " \n",
    "#     for i in range(len(frame_array)):\n",
    "#         # writing to a image array\n",
    "#         out.write(frame_array[i])\n",
    "    \n",
    "#     out.release()"
   ]
  },
  {
   "cell_type": "code",
   "execution_count": 48,
   "metadata": {},
   "outputs": [
    {
     "name": "stderr",
     "output_type": "stream",
     "text": [
      "c:\\program files\\python\\python36\\lib\\site-packages\\ipykernel_launcher.py:5: RuntimeWarning: overflow encountered in multiply\n",
      "  \"\"\"\n"
     ]
    },
    {
     "ename": "TypeError",
     "evalue": "must be real number, not tuple",
     "output_type": "error",
     "traceback": [
      "\u001b[1;31m---------------------------------------------------------------------------\u001b[0m",
      "\u001b[1;31mTypeError\u001b[0m                                 Traceback (most recent call last)",
      "\u001b[1;32m<ipython-input-48-4674dfe752ec>\u001b[0m in \u001b[0;36m<module>\u001b[1;34m()\u001b[0m\n\u001b[0;32m      7\u001b[0m \u001b[1;33m\u001b[0m\u001b[0m\n\u001b[0;32m      8\u001b[0m     \u001b[0mfourcc\u001b[0m \u001b[1;33m=\u001b[0m \u001b[0mcv2\u001b[0m\u001b[1;33m.\u001b[0m\u001b[0mVideoWriter_fourcc\u001b[0m\u001b[1;33m(\u001b[0m\u001b[1;33m*\u001b[0m\u001b[1;34m'mp4v'\u001b[0m\u001b[1;33m)\u001b[0m \u001b[1;31m# Be sure to use lower case\u001b[0m\u001b[1;33m\u001b[0m\u001b[0m\n\u001b[1;32m----> 9\u001b[1;33m     \u001b[0mout\u001b[0m \u001b[1;33m=\u001b[0m \u001b[0mcv2\u001b[0m\u001b[1;33m.\u001b[0m\u001b[0mVideoWriter\u001b[0m\u001b[1;33m(\u001b[0m\u001b[0moutputdata\u001b[0m\u001b[1;33m,\u001b[0m \u001b[0mcv2\u001b[0m\u001b[1;33m.\u001b[0m\u001b[0mVideoWriter_fourcc\u001b[0m\u001b[1;33m(\u001b[0m\u001b[1;33m*\u001b[0m\u001b[1;34m'PIM1'\u001b[0m\u001b[1;33m)\u001b[0m\u001b[1;33m,\u001b[0m \u001b[0mFPS\u001b[0m\u001b[1;33m,\u001b[0m \u001b[1;33m(\u001b[0m\u001b[1;36m28\u001b[0m\u001b[1;33m,\u001b[0m \u001b[1;36m28\u001b[0m\u001b[1;33m)\u001b[0m\u001b[1;33m,\u001b[0m \u001b[1;32mFalse\u001b[0m\u001b[1;33m)\u001b[0m\u001b[1;33m\u001b[0m\u001b[0m\n\u001b[0m\u001b[0;32m     10\u001b[0m \u001b[1;33m\u001b[0m\u001b[0m\n\u001b[0;32m     11\u001b[0m     \u001b[1;32mfor\u001b[0m \u001b[0mframe\u001b[0m \u001b[1;32min\u001b[0m \u001b[0moutputdata\u001b[0m\u001b[1;33m:\u001b[0m\u001b[1;33m\u001b[0m\u001b[0m\n",
      "\u001b[1;31mTypeError\u001b[0m: must be real number, not tuple"
     ]
    }
   ],
   "source": [
    "FPS = 2\n",
    "\n",
    "for i, outputdata in enumerate(splits_images):\n",
    "    out_name = \"../data/mvideos/cam{}_{}_fps.mp4\".format(i, i, FPS)\n",
    "    outputdata *= 255\n",
    "    outputdata = outputdata.astype(np.uint8)\n",
    "\n",
    "    fourcc = cv2.VideoWriter_fourcc(*'mp4v') # Be sure to use lower case\n",
    "    out = cv2.VideoWriter(outputdata, cv2.VideoWriter_fourcc(*'PIM1'), FPS, (28, 28), False)\n",
    "\n",
    "    for frame in outputdata:\n",
    "        if i == 0:\n",
    "            print(frame.shape)\n",
    "        out.write(frame) # Write out frame to video\n",
    "\n",
    "\n",
    "    out.release()\n",
    "    print('\\r{}'.format(i), end=\"\")"
   ]
  },
  {
   "cell_type": "code",
   "execution_count": 10,
   "metadata": {},
   "outputs": [],
   "source": [
    "import io\n",
    "import base64\n",
    "from IPython.display import HTML\n",
    "import os"
   ]
  },
  {
   "cell_type": "code",
   "execution_count": 14,
   "metadata": {},
   "outputs": [],
   "source": [
    "video_path = \"data/cam1/videos/cam1_{}_fps.mp4\".format(FPS)"
   ]
  },
  {
   "cell_type": "code",
   "execution_count": 15,
   "metadata": {},
   "outputs": [
    {
     "data": {
      "text/plain": [
       "True"
      ]
     },
     "execution_count": 15,
     "metadata": {},
     "output_type": "execute_result"
    }
   ],
   "source": [
    "os.path.isfile(video_path)"
   ]
  },
  {
   "cell_type": "code",
   "execution_count": 38,
   "metadata": {},
   "outputs": [],
   "source": [
    "import cv2\n",
    "import time\n",
    "\n",
    "def video_emitter(video):\n",
    "    # Open the video\n",
    "    video = cv2.VideoCapture(video)\n",
    "    print('Emitting.....')\n",
    "    i = 0\n",
    "    # read the file\n",
    "    while (video.isOpened):\n",
    "        # read the image in each frame\n",
    "        success, image = video.read()\n",
    "        gray = cv2.cvtColor(image, cv2.COLOR_BGR2GRAY)\n",
    "        print(gray.shape)\n",
    "        print(type(image))\n",
    "        show_num(gray)\n",
    "        print(gray-1)\n",
    "        break\n",
    "\n",
    "        # check if the file has read to the end\n",
    "        if not success:\n",
    "            print(\"BREAK AT FRAME: {}\".format(i))\n",
    "            break\n",
    "        # convert the image png\n",
    "#        ret, jpeg = cv2.imencode('.png', image)\n",
    "#         print(jpeg.shape)\n",
    "        # Convert the image to bytes, create json message and send to kafka\n",
    "#         message = {\"timestamp\":time.time(), \"frame\":np_to_json()}\n",
    "#         producer.send(topic, jpeg.tobytes())\n",
    "        # To reduce CPU usage create sleep time of 0.1sec  \n",
    "        time.sleep(0.3)\n",
    "        i += 1\n",
    "\n",
    "    # clear the capture\n",
    "    video.release()\n",
    "    print('Done Emitting...')"
   ]
  },
  {
   "cell_type": "code",
   "execution_count": 39,
   "metadata": {},
   "outputs": [
    {
     "name": "stdout",
     "output_type": "stream",
     "text": [
      "Emitting.....\n",
      "(28, 28)\n",
      "<class 'numpy.ndarray'>\n"
     ]
    },
    {
     "data": {
      "image/png": "[encoded data removed]",
      "text/plain": [
       "<Figure size 432x288 with 1 Axes>"
      ]
     },
     "metadata": {
      "needs_background": "light"
     },
     "output_type": "display_data"
    },
    {
     "name": "stdout",
     "output_type": "stream",
     "text": [
      "[[  0   0   0   0   0   0   0   0   0   0   0   0   0   0   0   0   0   0\n",
      "    0   0   0   0   0   0   0   0   0   0]\n",
      " [  0   0   0   0   0   0   0   0   0   0   0   0   0   0   0   0   0   0\n",
      "    0   0   0   0   0   0   0   0   0   0]\n",
      " [  0   0   0   0   0   0   0   0   0   0   0   0   1   0   0   0   0   0\n",
      "    0   0   0   0   0   0   0   0   1   0]\n",
      " [  0   0   0   0   0   0   0   1   1   0   0   0   2   1   0   0   0   0\n",
      "    0   0   0   0   0   0   0   0   2   0]\n",
      " [  0   0   0   0   0   0   0   0   0   0 255   8   3   0   1 255   1  12\n",
      "   17  32 210 253 248 172   5 255   1   0]\n",
      " [  0   0   0   0   0   0   0   1   0   0   0   2   2   0 255 255  46 196\n",
      "  218 226 254 252 249 246 160  14   0   0]\n",
      " [  0   0   0   0   0   0   0   1   1   3   5 255   5  60  94 149 240 248\n",
      "  252 254 230 153 156 158 225 126   5   0]\n",
      " [  0   0   0   0   0   0   0   0   1  29 238 250 247 252 250 250 247 245\n",
      "  229 220  40 255   1 255   8 255   2   1]\n",
      " [  0   0   0   0   0   0   0   0   0 157 249 247 246 248 233 147 136  64\n",
      "  255   5   3   2   1   0   0   0   1   0]\n",
      " [  0   0   0   0   0   0   0   0 255 238 254 243 166 160  68   1   2 255\n",
      "    0   0   1   0   0   1   1   1   1   1]\n",
      " [  0   0   0   0   0   0   0   0  96 252 251 204   7   1 255 255   0   0\n",
      "    0 255   0   0   0   0   0   0   0   0]\n",
      " [  0   0   0 255   0   0   0   0 162 251 254 100 255   1   6 255   8   1\n",
      "    0   1   1   1   1   0   0   0   0   0]\n",
      " [  0   0   0   0   0   0 255  19 217 244 254 202 194 181 157 171 191 161\n",
      "   13 255 255   1   1   0   0   0   0   0]\n",
      " [  0   0   0   0   0   0 255 160 244 254 253 244 250 251 251 251 250 250\n",
      "  222 218 120 255   0   0   0   0   0   0]\n",
      " [  0   0   0   0   0   0   0 167 248 251 251 248 250 243 241 234 242 250\n",
      "  246 254 225  50 255   0   0   0 255 255]\n",
      " [  0   0   0   0   0   0   0  99 250 249 236 185 178 120  56  25  41  71\n",
      "  123 245 245 185   2   0 255 255 255 255]\n",
      " [  0   0   0   0   0   0   0  11 129  51  34   0   0   0   0   0   3 255\n",
      "    1 244 247 254  17   0 255 255 255 255]\n",
      " [  0   0   0   1   0   0   0   1   1   2   3   4   4   4   3   3   1   0\n",
      "   52 250 247 208  10   0 255 255 255 255]\n",
      " [  0   0   0   1   0   0  17  38  93 129   1   0   0   0   0   0 255   4\n",
      "  172 252 241 124   2   0 255 255 255 255]\n",
      " [  0   0   0   1   0   0  66 238 220  77   4   0 255 255 255 255  10 167\n",
      "  242 254 156 255   1   0 255 255 255 255]\n",
      " [  0   0   0   0 255 255 234 252 152 255 255   0   0   0   6  56 232 252\n",
      "  252 250  76 255   0   0 255 255 255 255]\n",
      " [  0   0   0   1   0 255 254 252 170  40  38  87 153 156 227 250 254 254\n",
      "  245 120 255 255   0   0 255 255 255 255]\n",
      " [  0   0   0   1   0 255 221 249 247 246 248 249 250 250 251 254 248 193\n",
      "   83  27   2   1   0   0 255 255 255 255]\n",
      " [  0   0   0   1   0   0  85  92 137 102 164 254 197 227  69  30  27  10\n",
      "    1   1   1   0   0   0 255 255 255 255]\n",
      " [  0   0   0   0   0   0   0   0   0   0   0   0   0   0   0   0   0   0\n",
      "    0   0   0   0   0 255 255 255 255 255]\n",
      " [  0   0   0   0   0   0   0   0   0   0   0   0   0   0   0   0   0   0\n",
      "    0   0   0   0   0   0 255 255 255 255]\n",
      " [  0   0   0   0   0   0   0   0   0   0   0   0   0   0   0   0   0   0\n",
      "    0   0   0   0   0   0 255 255 255 255]\n",
      " [  0   0   0   0   0   0   0   0   0   0   0   0   0   0   0   0   0   0\n",
      "    0   0   0   0   0   0 255 255 255 255]]\n",
      "Done Emitting...\n"
     ]
    }
   ],
   "source": [
    "video_emitter(video_path)"
   ]
  },
  {
   "cell_type": "code",
   "execution_count": 23,
   "metadata": {},
   "outputs": [
    {
     "data": {
      "text/html": [
       "<video width=\"280\" height=\"280\" controls>\n",
       "  <source src=\"data/cam1/videos/cam1_2_fps.mp4\" type=\"video/mp4\">\n",
       "</video>"
      ],
      "text/plain": [
       "<IPython.core.display.HTML object>"
      ]
     },
     "metadata": {},
     "output_type": "display_data"
    }
   ],
   "source": [
    "%%HTML\n",
    "<video width=\"280\" height=\"280\" controls>\n",
    "  <source src=\"data/cam1/videos/cam1_2_fps.mp4\" type=\"video/mp4\">\n",
    "</video>"
   ]
  },
  {
   "cell_type": "code",
   "execution_count": 42,
   "metadata": {},
   "outputs": [],
   "source": [
    "import numpy as np\n",
    "import time\n",
    "import cv2\n",
    "from kafka import KafkaProducer\n",
    "import os\n",
    "import json\n",
    "from utils import np_to_json\n",
    "\n",
    "CAMERA_NUM = 0\n",
    "FPS = 5\n",
    "GRAY = True\n",
    "\n",
    "#  connect to Kafka\n",
    "producer = KafkaProducer(bootstrap_servers=['localhost:9092'], value_serializer=lambda hashmap: json.dumps(hashmap))\n",
    "\n",
    "# Assign a topic\n",
    "topic = 'frames'\n",
    "\n",
    "# serving from s3 bucket via cloudFront: url to the object\n",
    "cfront_endpoint = \"http://d3tj01z94i74qz.cloudfront.net/\"\n",
    "cfront_url = cfront_endpoint + \"cam{}/videos/cam{}_{}_fps.mp4\".format(CAMERA_NUM, CAMERA_NUM, FPS)\n",
    "\n",
    "# print(os.listdir(\"/home/ubuntu/eye_of_sauron/data/cam1/videos/\"))\n",
    "\n",
    "\n",
    "def video_emitter(video):\n",
    "    \n",
    "    # Open the video\n",
    "    print('Monitoring Stream from: ', video)\n",
    "    video = cv2.VideoCapture(video)\n",
    "    print('Emitting.....')\n",
    "    \n",
    "    # monitor frame number\n",
    "    i = 0\n",
    "    \n",
    "    # read the file\n",
    "    while (video.isOpened):\n",
    "        \n",
    "        # read the image in each frame\n",
    "        success, image = video.read()\n",
    "        \n",
    "        # check if the file has read to the end\n",
    "        if not success:\n",
    "            print(\"BREAK AT FRAME: {}\".format(i))\n",
    "            break\n",
    "\n",
    "        # convert the image png --> display\n",
    "        ret, png = cv2.imencode('.png', image)\n",
    "        \n",
    "        if GRAY:\n",
    "            image = cv2.cvtColor(image, cv2.COLOR_BGR2GRAY) # (28, 28)\n",
    "        \n",
    "        # serialize numpy array --> model\n",
    "        frame_dict = np_to_json(image.astype(np.uint8)) # {'frame': base64.b64encode(obj.tostring()).decode(\"utf-8\"),\n",
    "                                                        #  'dtype': obj.dtype.str,\n",
    "                                                        #  'shape': obj.shape}\n",
    "        \n",
    "        # Convert the image to bytes, create json message and send to kafka\n",
    "        message = {\"timestamp\":time.time(), \"camera\":CAMERA_NUM, \"display\":jpeg.tobytes()}\n",
    "        \n",
    "        message.update(frame_dict)\n",
    "        print(message)\n",
    "        producer.send(topic, message)\n",
    "        \n",
    "        # To reduce CPU usage create sleep time of 0.1sec  \n",
    "        time.sleep(0.1)\n",
    "        i += 1\n",
    "\n",
    "    # clear the capture\n",
    "    video.release()\n",
    "    print('Done Emitting...')  "
   ]
  },
  {
   "cell_type": "code",
   "execution_count": 43,
   "metadata": {},
   "outputs": [
    {
     "name": "stdout",
     "output_type": "stream",
     "text": [
      "Monitoring Stream from:  http://d3tj01z94i74qz.cloudfront.net/cam0/videos/cam0_5_fps.mp4\n",
      "Emitting.....\n",
      "{'display': b'\\x89PNG\\r\\n\\x1a\\n\\x00\\x00\\x00\\rIHDR\\x00\\x00\\x00\\x1c\\x00\\x00\\x00\\x1c\\x08\\x02\\x00\\x00\\x00\\xfdoH\\xc3\\x00\\x00\\x03\\xa9IDATH\\r\\xb5\\xc1?H[]\\x18\\x07\\xe0\\xdf{\\xce\\xb9IL\\x88\\x7f\\xa0h\\x16\\t\\r\\xb4[\\x91P\\xa1\\xa0\\x8b\\xa0F\\xd4 \\x1dJ\\r\\xd9\\x1c\\xec\\xd4\\x0e\\x82\\x0e\\x8e\\xd6V\\x8a\\xa5CJ\\'\\xeb&.\\x82 dp\\x08N\\xba\\x84\\x18m\\xe6\\xb6S\\x16i!\\xad4i\\xae\\xb9\\xf7\\x9c\\xf7\\x83\\x0b\\x81\\x04\\xa3\\xf8\\r}\\x1e\\xc2?@\\xf8\\x07\\x08\\xff\\x00\\xa1\\x1d\\x1113<D\\xc4\\xcc\\xf0\\x10\\x11\\x00f\\xc6\\x1d\\x10\\xda\\x11\\x91\\x94\\x12\\x80\\xf1\\xa0I)\\xe5\\xba.<]]]\\xb6m\\x87B\\xa1j\\xb5*\\xa5\\x04\\xc0\\xcc\\xc6\\x184\\x11Z\\x10\\x113\\xa3\\x93P(dY\\x96\\xcf\\xe7K\\xa7\\xd3\\x03\\x03\\x03\\x0f\\x1e<x\\xf5\\xea\\xd5\\xdb\\xb7o\\x17\\x16\\x16*\\x95J&\\x93y\\xfd\\xfa5\\x9a\\x08-\\x94R\\xae\\xeb\\x02\\x08\\x87\\xc3>\\x9f\\xaf\\xa7\\xa7gll,\\x1e\\x8fG\"\\x91\\xd9\\xd9Y\\xd7u\\xc3\\xe10<\\xdf\\xbf\\x7f?==\\x9d\\x9b\\x9b\\xabV\\xab\\xa5Riss3\\x97\\xcb\\xa1\\x89\\xd0DDRJ\\xd7u\\xc3\\xe1p4\\x1a\\xcd\\xe5r\\xf7\\xee\\xddSJi\\xad\\x8d1\\xf5z=\\x14\\n1\\xb31\\xc6u\\xdd\\xc5\\xc5E\\xc7q\\x88\\xa8\\\\.\\xff\\xfc\\xf9\\xf3\\xdb\\xb7ohAh!\\xa5\\xd4ZK)\\xbb\\xbb\\xbbONN\\xee\\xdf\\xbf\\xcf\\xcc\\xc1`Pk]\\xab\\xd5\\xbe~\\xfdzqq1==\\xed8N \\x10 \"x\\x98\\x19\\xed\\x08-\\x84\\x10\\xc6\\x18!\\x04\\x11MNN>\\x7f\\xfe\\xbcX,~\\xfa\\xf4\\xe9\\xea\\xea\\xaaX,NMM\\x19c\\x06\\x07\\x07\\x97\\x96\\x96^\\xbe|\\xa9\\xb5fftBhAD\\xccLM\\x96e\\xd9\\xb6\\xbd\\xbb\\xbb\\x9bN\\xa7S\\xa9\\xd4\\xde\\xde\\x1e\\x11\\t!\\\\\\xd7\\r\\x04\\x02\\xb6m\\xe3\\x06\\x84k\\xa8\\t\\x80eYkkk/^\\xbc(\\x95Jccc\\x00|>_\\xa3\\xd1\\xc0\\xad\\x08\\xd7\\x90\\x07\\x1ec\\x0c\\x80l6\\x9bL&\\'&&\\x8e\\x8e\\x8e\\xe0\\t\\x04\\x02\\xb6m\\xe3\\x06\\x84N\\x88\\x08\\x1ef\\x06\\x10\\x8b\\xc5\\xf2\\xf9|\\xadV+\\x14\\n\\xb9\\\\nkk\\x0b\\xb7\"\\xdc\\xcd\\xd3\\xa7O?\\x7f\\xfe\\xdc\\xdd\\xdd\\r`mmm{{\\xfb\\xc7\\x8f\\x1f\\xb8\\x01\\xe1\\x0e\\x88H)\\xf5\\xf0\\xe1\\xc3w\\xef\\xde\\x8d\\x8f\\x8f\\x1bcvvvVWW\\x7f\\xff\\xfeMD\\xcc\\x8cv\\x84\\xff#\\x18\\x0c\\xce\\xcf\\xcfooo\\xd7\\xeb\\xf5\\xe3\\xe3\\xe3\\x99\\x99\\x19\\xa5\\x94\\xe38hG\\xb8\\x03\"\\xb2,\\xab\\xd1h\\x00\\x90R\\xd6j5!D\\xa3\\xd1H$\\x12\\x85B\\xc1q\\x1c\\xcb\\xb2\\x1c\\xc7A\\x13\\xe1\\xce\\x86\\x86\\x86\\x92\\xc9\\xe4\\xe8\\xe8h\"\\x91\\x00\\xf0\\xe5\\xcb\\x97\\xe1\\xe1a)\\xa5\\xd6ZJ\\xa9\\xb5F\\x13\\xe1\\x0e\\x1e=z\\xb4\\xb8\\xb8\\x98J\\xa5\\xfa\\xfa\\xfa\\x8c1R\\xcaz\\xbd\\x9e\\xcf\\xe7\\'&&\\xd0DD\\xcc\\x0c\\x0f\\xe1V\\x91H\\xe4\\xd9\\xb3g\\xcb\\xcb\\xcb\\xd1h\\xd4\\x18S\\xab\\xd5|>_\\xa1P\\xd8\\xd8\\xd88<<\\xc4\\r\\x08\\xd7\\x08!\\x00\\xf4\\xf7\\xf7?~\\xfcx}}=\\x1e\\x8f;\\x8eCD\\x00\\xce\\xcf\\xcf766\\x0e\\x0e\\x0e\\x00(\\xa5\\\\\\xd7E\\'\\x84\\x16\\xe4\\xe9\\xed\\xed\\xcdd2###\\xb1X\\xec\\xd7\\xaf_J)\\xbf\\xdf\\x7fvv\\xf6\\xfe\\xfd\\xfbl6\\xeb8\\x0e<B\\x08c\\x0c:!\\xb4x\\xf2\\xe4\\xc9\\xca\\xcaJ<\\x1e\\x8f\\xc5b\\x7f\\xfe\\xfc\\t\\x87\\xc3WWW\\xd5j5\\x93\\xc9|\\xfc\\xf8\\xf1\\xf2\\xf2RJ\\xa9\\xb5VJ\\x19c\\xd8\\x83N\\x08-\\xde\\xbcy\\xb3\\xbc\\xbc\\xac\\x94\\xfa\\xfb\\xf7o\\xb9\\\\\\xde\\xdf\\xdf\\xf7\\xfb\\xfd\\x1f>|\\xa8T*\\x00\\x98\\x19\\x003\\x0b!\\x8c\\x077 \\xb4\\x0b\\x04\\x02\\xb6mK)\\x85\\x10\\xc6\\x18\\xad5\\xae\\x11B03\\x00fF\\'\\x84vB\\x08c\\x0c\\x00)%\\x00\\xad5\\x1113Z\\x10\\x11<\\xcc\\x8cN\\x08\\xed\\x88\\x08\\x80\\x94\\xd2x\\x00\\x10\\x11n\\xc0\\xcc\\xe8\\xe4?\\xf4b\\xb3,\\xe8\\x0b)\\xaf\\x00\\x00\\x00\\x00IEND\\xaeB`\\x82', 'camera': 0, 'dtype': '|u1', 'timestamp': 1537373385.8471603, 'frame': 'AAAAAAAAAAAAAAAAAAAAAAAAAAAAAAAAAAAAAAAAAAAAAAAAAAAAAAAAAAAAAAAAAAAAAAAAAAAAAAAAAAAAAAAAAAAAAAAAAAAAAAAAAAAAAAAAAAAAAAABAAAAAQAAAAEBAAAAAAAAAAAAAAAAAAAAAAAAAQQEAgAAAAAEAAAACQEMAAMDAgAAAAAAAAAAAQAAAAAAAAAACxAWcIesGZ7/7X4AAAAAAAAAAAQAAA0TImKTq/by////3Kj26rtFAAAAAAAAAAEEAA0s5/v//Prx/Pv59VpVVjkkAAAAAAAAAAAAAwADEdX29f/88cy0/fgAAQEBAAAAAAAAAAAAAAIAAgNInmv/+MUMCieYBAEAAAAAAAAAAAAAAAABAAECAwgApf9XAQIEAAgAAAAAAAAAAAAAAAAAAAABAgMDCInvwAAABgAAAAAAAAAAAAAAAAAAAAAAAQICAgAAs/9DAAAACAAAAAAAAAAAAAAAAAAAAAABAQEAACLr4KtmAAAAAAAAAAAAAAAAAAAAAAAAAAAAAAAAUOv5+XoWAAAAAAAAAAAAAAAAAAAAAAAAAAAAAQUrs/b0lxAAAQAAAAAAAAAAAAAAAAAAAAAAAAAAAAph/fS3AQUAAAAAAAAAAAAAAAAAAAAAAAABBgAAA/j69DoFAAUAAAAAAAAAAAAAAAAAAAAAAAAve7b8/MwAAwADAAAAAAAAAAAAAAAAAAAAAC2S6vv5/PO8AAAAAAEAAAAAAAAAAAAAAAAAGGzg//3y+MNJAAAAAAAAAAAAAAAAAAAAAgIYS87/+vv7ylAAAAQAAAAAAAAAAAAAAAABAhKj3f/u8vnHUgUAAAACAAAAAAAAAAAAAAAAN6zd//L/+Ox9DwADAAQCAQAAAAAAAAAAAAAAAIT4/PLVgokWBAQDAwIEAgAAAAAAAAAAAAAAAAAACAADBQMAAAAAAAAAAgEBAAAAAAAAAAAAAAAAAAIAAAMDAAEAAAAAAAEBAQAAAAAAAAAAAAAAAAABAQQCAAABAQEBAQEBAQEAAAAAAAAAAA==', 'shape': (28, 28)}\n"
     ]
    },
    {
     "ename": "TypeError",
     "evalue": "b'\\x89PNG\\r\\n\\x1a\\n\\x00\\x00\\x00\\rIHDR\\x00\\x00\\x00\\x1c\\x00\\x00\\x00\\x1c\\x08\\x02\\x00\\x00\\x00\\xfdoH\\xc3\\x00\\x00\\x03\\xa9IDATH\\r\\xb5\\xc1?H[]\\x18\\x07\\xe0\\xdf{\\xce\\xb9IL\\x88\\x7f\\xa0h\\x16\\t\\r\\xb4[\\x91P\\xa1\\xa0\\x8b\\xa0F\\xd4 \\x1dJ\\r\\xd9\\x1c\\xec\\xd4\\x0e\\x82\\x0e\\x8e\\xd6V\\x8a\\xa5CJ\\'\\xeb&.\\x82 dp\\x08N\\xba\\x84\\x18m\\xe6\\xb6S\\x16i!\\xad4i\\xae\\xb9\\xf7\\x9c\\xf7\\x83\\x0b\\x81\\x04\\xa3\\xf8\\r}\\x1e\\xc2?@\\xf8\\x07\\x08\\xff\\x00\\xa1\\x1d\\x1113<D\\xc4\\xcc\\xf0\\x10\\x11\\x00f\\xc6\\x1d\\x10\\xda\\x11\\x91\\x94\\x12\\x80\\xf1\\xa0I)\\xe5\\xba.<]]]\\xb6m\\x87B\\xa1j\\xb5*\\xa5\\x04\\xc0\\xcc\\xc6\\x184\\x11Z\\x10\\x113\\xa3\\x93P(dY\\x96\\xcf\\xe7K\\xa7\\xd3\\x03\\x03\\x03\\x0f\\x1e<x\\xf5\\xea\\xd5\\xdb\\xb7o\\x17\\x16\\x16*\\x95J&\\x93y\\xfd\\xfa5\\x9a\\x08-\\x94R\\xae\\xeb\\x02\\x08\\x87\\xc3>\\x9f\\xaf\\xa7\\xa7gll,\\x1e\\x8fG\"\\x91\\xd9\\xd9Y\\xd7u\\xc3\\xe10<\\xdf\\xbf\\x7f?==\\x9d\\x9b\\x9b\\xabV\\xab\\xa5Riss3\\x97\\xcb\\xa1\\x89\\xd0DDRJ\\xd7u\\xc3\\xe1p4\\x1a\\xcd\\xe5r\\xf7\\xee\\xddSJi\\xad\\x8d1\\xf5z=\\x14\\n1\\xb31\\xc6u\\xdd\\xc5\\xc5E\\xc7q\\x88\\xa8\\\\.\\xff\\xfc\\xf9\\xf3\\xdb\\xb7ohAh!\\xa5\\xd4ZK)\\xbb\\xbb\\xbbONN\\xee\\xdf\\xbf\\xcf\\xcc\\xc1`Pk]\\xab\\xd5\\xbe~\\xfdzqq1==\\xed8N \\x10 \"x\\x98\\x19\\xed\\x08-\\x84\\x10\\xc6\\x18!\\x04\\x11MNN>\\x7f\\xfe\\xbcX,~\\xfa\\xf4\\xe9\\xea\\xea\\xaaX,NMM\\x19c\\x06\\x07\\x07\\x97\\x96\\x96^\\xbe|\\xa9\\xb5fftBhAD\\xccLM\\x96e\\xd9\\xb6\\xbd\\xbb\\xbb\\x9bN\\xa7S\\xa9\\xd4\\xde\\xde\\x1e\\x11\\t!\\\\\\xd7\\r\\x04\\x02\\xb6m\\xe3\\x06\\x84k\\xa8\\t\\x80eYkkk/^\\xbc(\\x95Jccc\\x00|>_\\xa3\\xd1\\xc0\\xad\\x08\\xd7\\x90\\x07\\x1ec\\x0c\\x80l6\\x9bL&\\'&&\\x8e\\x8e\\x8e\\xe0\\t\\x04\\x02\\xb6m\\xe3\\x06\\x84N\\x88\\x08\\x1ef\\x06\\x10\\x8b\\xc5\\xf2\\xf9|\\xadV+\\x14\\n\\xb9\\\\nkk\\x0b\\xb7\"\\xdc\\xcd\\xd3\\xa7O?\\x7f\\xfe\\xdc\\xdd\\xdd\\r`mmm{{\\xfb\\xc7\\x8f\\x1f\\xb8\\x01\\xe1\\x0e\\x88H)\\xf5\\xf0\\xe1\\xc3w\\xef\\xde\\x8d\\x8f\\x8f\\x1bcvvvVWW\\x7f\\xff\\xfeMD\\xcc\\x8cv\\x84\\xff#\\x18\\x0c\\xce\\xcf\\xcfooo\\xd7\\xeb\\xf5\\xe3\\xe3\\xe3\\x99\\x99\\x19\\xa5\\x94\\xe38hG\\xb8\\x03\"\\xb2,\\xab\\xd1h\\x00\\x90R\\xd6j5!D\\xa3\\xd1H$\\x12\\x85B\\xc1q\\x1c\\xcb\\xb2\\x1c\\xc7A\\x13\\xe1\\xce\\x86\\x86\\x86\\x92\\xc9\\xe4\\xe8\\xe8h\"\\x91\\x00\\xf0\\xe5\\xcb\\x97\\xe1\\xe1a)\\xa5\\xd6ZJ\\xa9\\xb5F\\x13\\xe1\\x0e\\x1e=z\\xb4\\xb8\\xb8\\x98J\\xa5\\xfa\\xfa\\xfa\\x8c1R\\xcaz\\xbd\\x9e\\xcf\\xe7\\'&&\\xd0DD\\xcc\\x0c\\x0f\\xe1V\\x91H\\xe4\\xd9\\xb3g\\xcb\\xcb\\xcb\\xd1h\\xd4\\x18S\\xab\\xd5|>_\\xa1P\\xd8\\xd8\\xd88<<\\xc4\\r\\x08\\xd7\\x08!\\x00\\xf4\\xf7\\xf7?~\\xfcx}}=\\x1e\\x8f;\\x8eCD\\x00\\xce\\xcf\\xcf766\\x0e\\x0e\\x0e\\x00(\\xa5\\\\\\xd7E\\'\\x84\\x16\\xe4\\xe9\\xed\\xed\\xcdd2###\\xb1X\\xec\\xd7\\xaf_J)\\xbf\\xdf\\x7fvv\\xf6\\xfe\\xfd\\xfbl6\\xeb8\\x0e<B\\x08c\\x0c:!\\xb4x\\xf2\\xe4\\xc9\\xca\\xcaJ<\\x1e\\x8f\\xc5b\\x7f\\xfe\\xfc\\t\\x87\\xc3WWW\\xd5j5\\x93\\xc9|\\xfc\\xf8\\xf1\\xf2\\xf2RJ\\xa9\\xb5VJ\\x19c\\xd8\\x83N\\x08-\\xde\\xbcy\\xb3\\xbc\\xbc\\xac\\x94\\xfa\\xfb\\xf7o\\xb9\\\\\\xde\\xdf\\xdf\\xf7\\xfb\\xfd\\x1f>|\\xa8T*\\x00\\x98\\x19\\x003\\x0b!\\x8c\\x077 \\xb4\\x0b\\x04\\x02\\xb6mK)\\x85\\x10\\xc6\\x18\\xad5\\xae\\x11B03\\x00fF\\'\\x84vB\\x08c\\x0c\\x00)%\\x00\\xad5\\x1113Z\\x10\\x11<\\xcc\\x8cN\\x08\\xed\\x88\\x08\\x80\\x94\\xd2x\\x00\\x10\\x11n\\xc0\\xcc\\xe8\\xe4?\\xf4b\\xb3,\\xe8\\x0b)\\xaf\\x00\\x00\\x00\\x00IEND\\xaeB`\\x82' is not JSON serializable",
     "output_type": "error",
     "traceback": [
      "\u001b[0;31m---------------------------------------------------------------------------\u001b[0m",
      "\u001b[0;31mTypeError\u001b[0m                                 Traceback (most recent call last)",
      "\u001b[0;32m<ipython-input-43-e336ed5a6c8e>\u001b[0m in \u001b[0;36m<module>\u001b[0;34m()\u001b[0m\n\u001b[0;32m----> 1\u001b[0;31m \u001b[0mvideo_emitter\u001b[0m\u001b[0;34m(\u001b[0m\u001b[0mcfront_url\u001b[0m\u001b[0;34m)\u001b[0m\u001b[0;34m\u001b[0m\u001b[0m\n\u001b[0m",
      "\u001b[0;32m<ipython-input-42-053a7db5da83>\u001b[0m in \u001b[0;36mvideo_emitter\u001b[0;34m(video)\u001b[0m\n\u001b[1;32m     61\u001b[0m         \u001b[0mmessage\u001b[0m\u001b[0;34m.\u001b[0m\u001b[0mupdate\u001b[0m\u001b[0;34m(\u001b[0m\u001b[0mframe_dict\u001b[0m\u001b[0;34m)\u001b[0m\u001b[0;34m\u001b[0m\u001b[0m\n\u001b[1;32m     62\u001b[0m         \u001b[0mprint\u001b[0m\u001b[0;34m(\u001b[0m\u001b[0mmessage\u001b[0m\u001b[0;34m)\u001b[0m\u001b[0;34m\u001b[0m\u001b[0m\n\u001b[0;32m---> 63\u001b[0;31m         \u001b[0mproducer\u001b[0m\u001b[0;34m.\u001b[0m\u001b[0msend\u001b[0m\u001b[0;34m(\u001b[0m\u001b[0mtopic\u001b[0m\u001b[0;34m,\u001b[0m \u001b[0mmessage\u001b[0m\u001b[0;34m)\u001b[0m\u001b[0;34m\u001b[0m\u001b[0m\n\u001b[0m\u001b[1;32m     64\u001b[0m \u001b[0;34m\u001b[0m\u001b[0m\n\u001b[1;32m     65\u001b[0m         \u001b[0;31m# To reduce CPU usage create sleep time of 0.1sec\u001b[0m\u001b[0;34m\u001b[0m\u001b[0;34m\u001b[0m\u001b[0m\n",
      "\u001b[0;32m/usr/local/lib/python3.5/dist-packages/kafka/producer/kafka.py\u001b[0m in \u001b[0;36msend\u001b[0;34m(self, topic, value, key, partition, timestamp_ms)\u001b[0m\n\u001b[1;32m    548\u001b[0m             value_bytes = self._serialize(\n\u001b[1;32m    549\u001b[0m                 \u001b[0mself\u001b[0m\u001b[0;34m.\u001b[0m\u001b[0mconfig\u001b[0m\u001b[0;34m[\u001b[0m\u001b[0;34m'value_serializer'\u001b[0m\u001b[0;34m]\u001b[0m\u001b[0;34m,\u001b[0m\u001b[0;34m\u001b[0m\u001b[0m\n\u001b[0;32m--> 550\u001b[0;31m                 topic, value)\n\u001b[0m\u001b[1;32m    551\u001b[0m             \u001b[0;32massert\u001b[0m \u001b[0mtype\u001b[0m\u001b[0;34m(\u001b[0m\u001b[0mkey_bytes\u001b[0m\u001b[0;34m)\u001b[0m \u001b[0;32min\u001b[0m \u001b[0;34m(\u001b[0m\u001b[0mbytes\u001b[0m\u001b[0;34m,\u001b[0m \u001b[0mbytearray\u001b[0m\u001b[0;34m,\u001b[0m \u001b[0mmemoryview\u001b[0m\u001b[0;34m,\u001b[0m \u001b[0mtype\u001b[0m\u001b[0;34m(\u001b[0m\u001b[0;32mNone\u001b[0m\u001b[0;34m)\u001b[0m\u001b[0;34m)\u001b[0m\u001b[0;34m\u001b[0m\u001b[0m\n\u001b[1;32m    552\u001b[0m             \u001b[0;32massert\u001b[0m \u001b[0mtype\u001b[0m\u001b[0;34m(\u001b[0m\u001b[0mvalue_bytes\u001b[0m\u001b[0;34m)\u001b[0m \u001b[0;32min\u001b[0m \u001b[0;34m(\u001b[0m\u001b[0mbytes\u001b[0m\u001b[0;34m,\u001b[0m \u001b[0mbytearray\u001b[0m\u001b[0;34m,\u001b[0m \u001b[0mmemoryview\u001b[0m\u001b[0;34m,\u001b[0m \u001b[0mtype\u001b[0m\u001b[0;34m(\u001b[0m\u001b[0;32mNone\u001b[0m\u001b[0;34m)\u001b[0m\u001b[0;34m)\u001b[0m\u001b[0;34m\u001b[0m\u001b[0m\n",
      "\u001b[0;32m/usr/local/lib/python3.5/dist-packages/kafka/producer/kafka.py\u001b[0m in \u001b[0;36m_serialize\u001b[0;34m(self, f, topic, data)\u001b[0m\n\u001b[1;32m    673\u001b[0m         \u001b[0;32mif\u001b[0m \u001b[0misinstance\u001b[0m\u001b[0;34m(\u001b[0m\u001b[0mf\u001b[0m\u001b[0;34m,\u001b[0m \u001b[0mSerializer\u001b[0m\u001b[0;34m)\u001b[0m\u001b[0;34m:\u001b[0m\u001b[0;34m\u001b[0m\u001b[0m\n\u001b[1;32m    674\u001b[0m             \u001b[0;32mreturn\u001b[0m \u001b[0mf\u001b[0m\u001b[0;34m.\u001b[0m\u001b[0mserialize\u001b[0m\u001b[0;34m(\u001b[0m\u001b[0mtopic\u001b[0m\u001b[0;34m,\u001b[0m \u001b[0mdata\u001b[0m\u001b[0;34m)\u001b[0m\u001b[0;34m\u001b[0m\u001b[0m\n\u001b[0;32m--> 675\u001b[0;31m         \u001b[0;32mreturn\u001b[0m \u001b[0mf\u001b[0m\u001b[0;34m(\u001b[0m\u001b[0mdata\u001b[0m\u001b[0;34m)\u001b[0m\u001b[0;34m\u001b[0m\u001b[0m\n\u001b[0m\u001b[1;32m    676\u001b[0m \u001b[0;34m\u001b[0m\u001b[0m\n\u001b[1;32m    677\u001b[0m     def _partition(self, topic, partition, key, value,\n",
      "\u001b[0;32m<ipython-input-42-053a7db5da83>\u001b[0m in \u001b[0;36m<lambda>\u001b[0;34m(hashmap)\u001b[0m\n\u001b[1;32m     12\u001b[0m \u001b[0;34m\u001b[0m\u001b[0m\n\u001b[1;32m     13\u001b[0m \u001b[0;31m#  connect to Kafka\u001b[0m\u001b[0;34m\u001b[0m\u001b[0;34m\u001b[0m\u001b[0m\n\u001b[0;32m---> 14\u001b[0;31m \u001b[0mproducer\u001b[0m \u001b[0;34m=\u001b[0m \u001b[0mKafkaProducer\u001b[0m\u001b[0;34m(\u001b[0m\u001b[0mbootstrap_servers\u001b[0m\u001b[0;34m=\u001b[0m\u001b[0;34m[\u001b[0m\u001b[0;34m'localhost:9092'\u001b[0m\u001b[0;34m]\u001b[0m\u001b[0;34m,\u001b[0m \u001b[0mvalue_serializer\u001b[0m\u001b[0;34m=\u001b[0m\u001b[0;32mlambda\u001b[0m \u001b[0mhashmap\u001b[0m\u001b[0;34m:\u001b[0m \u001b[0mjson\u001b[0m\u001b[0;34m.\u001b[0m\u001b[0mdumps\u001b[0m\u001b[0;34m(\u001b[0m\u001b[0mhashmap\u001b[0m\u001b[0;34m)\u001b[0m\u001b[0;34m)\u001b[0m\u001b[0;34m\u001b[0m\u001b[0m\n\u001b[0m\u001b[1;32m     15\u001b[0m \u001b[0;34m\u001b[0m\u001b[0m\n\u001b[1;32m     16\u001b[0m \u001b[0;31m# Assign a topic\u001b[0m\u001b[0;34m\u001b[0m\u001b[0;34m\u001b[0m\u001b[0m\n",
      "\u001b[0;32m/usr/lib/python3.5/json/__init__.py\u001b[0m in \u001b[0;36mdumps\u001b[0;34m(obj, skipkeys, ensure_ascii, check_circular, allow_nan, cls, indent, separators, default, sort_keys, **kw)\u001b[0m\n\u001b[1;32m    228\u001b[0m         \u001b[0mcls\u001b[0m \u001b[0;32mis\u001b[0m \u001b[0;32mNone\u001b[0m \u001b[0;32mand\u001b[0m \u001b[0mindent\u001b[0m \u001b[0;32mis\u001b[0m \u001b[0;32mNone\u001b[0m \u001b[0;32mand\u001b[0m \u001b[0mseparators\u001b[0m \u001b[0;32mis\u001b[0m \u001b[0;32mNone\u001b[0m \u001b[0;32mand\u001b[0m\u001b[0;34m\u001b[0m\u001b[0m\n\u001b[1;32m    229\u001b[0m         default is None and not sort_keys and not kw):\n\u001b[0;32m--> 230\u001b[0;31m         \u001b[0;32mreturn\u001b[0m \u001b[0m_default_encoder\u001b[0m\u001b[0;34m.\u001b[0m\u001b[0mencode\u001b[0m\u001b[0;34m(\u001b[0m\u001b[0mobj\u001b[0m\u001b[0;34m)\u001b[0m\u001b[0;34m\u001b[0m\u001b[0m\n\u001b[0m\u001b[1;32m    231\u001b[0m     \u001b[0;32mif\u001b[0m \u001b[0mcls\u001b[0m \u001b[0;32mis\u001b[0m \u001b[0;32mNone\u001b[0m\u001b[0;34m:\u001b[0m\u001b[0;34m\u001b[0m\u001b[0m\n\u001b[1;32m    232\u001b[0m         \u001b[0mcls\u001b[0m \u001b[0;34m=\u001b[0m \u001b[0mJSONEncoder\u001b[0m\u001b[0;34m\u001b[0m\u001b[0m\n",
      "\u001b[0;32m/usr/lib/python3.5/json/encoder.py\u001b[0m in \u001b[0;36mencode\u001b[0;34m(self, o)\u001b[0m\n\u001b[1;32m    196\u001b[0m         \u001b[0;31m# exceptions aren't as detailed.  The list call should be roughly\u001b[0m\u001b[0;34m\u001b[0m\u001b[0;34m\u001b[0m\u001b[0m\n\u001b[1;32m    197\u001b[0m         \u001b[0;31m# equivalent to the PySequence_Fast that ''.join() would do.\u001b[0m\u001b[0;34m\u001b[0m\u001b[0;34m\u001b[0m\u001b[0m\n\u001b[0;32m--> 198\u001b[0;31m         \u001b[0mchunks\u001b[0m \u001b[0;34m=\u001b[0m \u001b[0mself\u001b[0m\u001b[0;34m.\u001b[0m\u001b[0miterencode\u001b[0m\u001b[0;34m(\u001b[0m\u001b[0mo\u001b[0m\u001b[0;34m,\u001b[0m \u001b[0m_one_shot\u001b[0m\u001b[0;34m=\u001b[0m\u001b[0;32mTrue\u001b[0m\u001b[0;34m)\u001b[0m\u001b[0;34m\u001b[0m\u001b[0m\n\u001b[0m\u001b[1;32m    199\u001b[0m         \u001b[0;32mif\u001b[0m \u001b[0;32mnot\u001b[0m \u001b[0misinstance\u001b[0m\u001b[0;34m(\u001b[0m\u001b[0mchunks\u001b[0m\u001b[0;34m,\u001b[0m \u001b[0;34m(\u001b[0m\u001b[0mlist\u001b[0m\u001b[0;34m,\u001b[0m \u001b[0mtuple\u001b[0m\u001b[0;34m)\u001b[0m\u001b[0;34m)\u001b[0m\u001b[0;34m:\u001b[0m\u001b[0;34m\u001b[0m\u001b[0m\n\u001b[1;32m    200\u001b[0m             \u001b[0mchunks\u001b[0m \u001b[0;34m=\u001b[0m \u001b[0mlist\u001b[0m\u001b[0;34m(\u001b[0m\u001b[0mchunks\u001b[0m\u001b[0;34m)\u001b[0m\u001b[0;34m\u001b[0m\u001b[0m\n",
      "\u001b[0;32m/usr/lib/python3.5/json/encoder.py\u001b[0m in \u001b[0;36miterencode\u001b[0;34m(self, o, _one_shot)\u001b[0m\n\u001b[1;32m    254\u001b[0m                 \u001b[0mself\u001b[0m\u001b[0;34m.\u001b[0m\u001b[0mkey_separator\u001b[0m\u001b[0;34m,\u001b[0m \u001b[0mself\u001b[0m\u001b[0;34m.\u001b[0m\u001b[0mitem_separator\u001b[0m\u001b[0;34m,\u001b[0m \u001b[0mself\u001b[0m\u001b[0;34m.\u001b[0m\u001b[0msort_keys\u001b[0m\u001b[0;34m,\u001b[0m\u001b[0;34m\u001b[0m\u001b[0m\n\u001b[1;32m    255\u001b[0m                 self.skipkeys, _one_shot)\n\u001b[0;32m--> 256\u001b[0;31m         \u001b[0;32mreturn\u001b[0m \u001b[0m_iterencode\u001b[0m\u001b[0;34m(\u001b[0m\u001b[0mo\u001b[0m\u001b[0;34m,\u001b[0m \u001b[0;36m0\u001b[0m\u001b[0;34m)\u001b[0m\u001b[0;34m\u001b[0m\u001b[0m\n\u001b[0m\u001b[1;32m    257\u001b[0m \u001b[0;34m\u001b[0m\u001b[0m\n\u001b[1;32m    258\u001b[0m def _make_iterencode(markers, _default, _encoder, _indent, _floatstr,\n",
      "\u001b[0;32m/usr/lib/python3.5/json/encoder.py\u001b[0m in \u001b[0;36mdefault\u001b[0;34m(self, o)\u001b[0m\n\u001b[1;32m    177\u001b[0m \u001b[0;34m\u001b[0m\u001b[0m\n\u001b[1;32m    178\u001b[0m         \"\"\"\n\u001b[0;32m--> 179\u001b[0;31m         \u001b[0;32mraise\u001b[0m \u001b[0mTypeError\u001b[0m\u001b[0;34m(\u001b[0m\u001b[0mrepr\u001b[0m\u001b[0;34m(\u001b[0m\u001b[0mo\u001b[0m\u001b[0;34m)\u001b[0m \u001b[0;34m+\u001b[0m \u001b[0;34m\" is not JSON serializable\"\u001b[0m\u001b[0;34m)\u001b[0m\u001b[0;34m\u001b[0m\u001b[0m\n\u001b[0m\u001b[1;32m    180\u001b[0m \u001b[0;34m\u001b[0m\u001b[0m\n\u001b[1;32m    181\u001b[0m     \u001b[0;32mdef\u001b[0m \u001b[0mencode\u001b[0m\u001b[0;34m(\u001b[0m\u001b[0mself\u001b[0m\u001b[0;34m,\u001b[0m \u001b[0mo\u001b[0m\u001b[0;34m)\u001b[0m\u001b[0;34m:\u001b[0m\u001b[0;34m\u001b[0m\u001b[0m\n",
      "\u001b[0;31mTypeError\u001b[0m: b'\\x89PNG\\r\\n\\x1a\\n\\x00\\x00\\x00\\rIHDR\\x00\\x00\\x00\\x1c\\x00\\x00\\x00\\x1c\\x08\\x02\\x00\\x00\\x00\\xfdoH\\xc3\\x00\\x00\\x03\\xa9IDATH\\r\\xb5\\xc1?H[]\\x18\\x07\\xe0\\xdf{\\xce\\xb9IL\\x88\\x7f\\xa0h\\x16\\t\\r\\xb4[\\x91P\\xa1\\xa0\\x8b\\xa0F\\xd4 \\x1dJ\\r\\xd9\\x1c\\xec\\xd4\\x0e\\x82\\x0e\\x8e\\xd6V\\x8a\\xa5CJ\\'\\xeb&.\\x82 dp\\x08N\\xba\\x84\\x18m\\xe6\\xb6S\\x16i!\\xad4i\\xae\\xb9\\xf7\\x9c\\xf7\\x83\\x0b\\x81\\x04\\xa3\\xf8\\r}\\x1e\\xc2?@\\xf8\\x07\\x08\\xff\\x00\\xa1\\x1d\\x1113<D\\xc4\\xcc\\xf0\\x10\\x11\\x00f\\xc6\\x1d\\x10\\xda\\x11\\x91\\x94\\x12\\x80\\xf1\\xa0I)\\xe5\\xba.<]]]\\xb6m\\x87B\\xa1j\\xb5*\\xa5\\x04\\xc0\\xcc\\xc6\\x184\\x11Z\\x10\\x113\\xa3\\x93P(dY\\x96\\xcf\\xe7K\\xa7\\xd3\\x03\\x03\\x03\\x0f\\x1e<x\\xf5\\xea\\xd5\\xdb\\xb7o\\x17\\x16\\x16*\\x95J&\\x93y\\xfd\\xfa5\\x9a\\x08-\\x94R\\xae\\xeb\\x02\\x08\\x87\\xc3>\\x9f\\xaf\\xa7\\xa7gll,\\x1e\\x8fG\"\\x91\\xd9\\xd9Y\\xd7u\\xc3\\xe10<\\xdf\\xbf\\x7f?==\\x9d\\x9b\\x9b\\xabV\\xab\\xa5Riss3\\x97\\xcb\\xa1\\x89\\xd0DDRJ\\xd7u\\xc3\\xe1p4\\x1a\\xcd\\xe5r\\xf7\\xee\\xddSJi\\xad\\x8d1\\xf5z=\\x14\\n1\\xb31\\xc6u\\xdd\\xc5\\xc5E\\xc7q\\x88\\xa8\\\\.\\xff\\xfc\\xf9\\xf3\\xdb\\xb7ohAh!\\xa5\\xd4ZK)\\xbb\\xbb\\xbbONN\\xee\\xdf\\xbf\\xcf\\xcc\\xc1`Pk]\\xab\\xd5\\xbe~\\xfdzqq1==\\xed8N \\x10 \"x\\x98\\x19\\xed\\x08-\\x84\\x10\\xc6\\x18!\\x04\\x11MNN>\\x7f\\xfe\\xbcX,~\\xfa\\xf4\\xe9\\xea\\xea\\xaaX,NMM\\x19c\\x06\\x07\\x07\\x97\\x96\\x96^\\xbe|\\xa9\\xb5fftBhAD\\xccLM\\x96e\\xd9\\xb6\\xbd\\xbb\\xbb\\x9bN\\xa7S\\xa9\\xd4\\xde\\xde\\x1e\\x11\\t!\\\\\\xd7\\r\\x04\\x02\\xb6m\\xe3\\x06\\x84k\\xa8\\t\\x80eYkkk/^\\xbc(\\x95Jccc\\x00|>_\\xa3\\xd1\\xc0\\xad\\x08\\xd7\\x90\\x07\\x1ec\\x0c\\x80l6\\x9bL&\\'&&\\x8e\\x8e\\x8e\\xe0\\t\\x04\\x02\\xb6m\\xe3\\x06\\x84N\\x88\\x08\\x1ef\\x06\\x10\\x8b\\xc5\\xf2\\xf9|\\xadV+\\x14\\n\\xb9\\\\nkk\\x0b\\xb7\"\\xdc\\xcd\\xd3\\xa7O?\\x7f\\xfe\\xdc\\xdd\\xdd\\r`mmm{{\\xfb\\xc7\\x8f\\x1f\\xb8\\x01\\xe1\\x0e\\x88H)\\xf5\\xf0\\xe1\\xc3w\\xef\\xde\\x8d\\x8f\\x8f\\x1bcvvvVWW\\x7f\\xff\\xfeMD\\xcc\\x8cv\\x84\\xff#\\x18\\x0c\\xce\\xcf\\xcfooo\\xd7\\xeb\\xf5\\xe3\\xe3\\xe3\\x99\\x99\\x19\\xa5\\x94\\xe38hG\\xb8\\x03\"\\xb2,\\xab\\xd1h\\x00\\x90R\\xd6j5!D\\xa3\\xd1H$\\x12\\x85B\\xc1q\\x1c\\xcb\\xb2\\x1c\\xc7A\\x13\\xe1\\xce\\x86\\x86\\x86\\x92\\xc9\\xe4\\xe8\\xe8h\"\\x91\\x00\\xf0\\xe5\\xcb\\x97\\xe1\\xe1a)\\xa5\\xd6ZJ\\xa9\\xb5F\\x13\\xe1\\x0e\\x1e=z\\xb4\\xb8\\xb8\\x98J\\xa5\\xfa\\xfa\\xfa\\x8c1R\\xcaz\\xbd\\x9e\\xcf\\xe7\\'&&\\xd0DD\\xcc\\x0c\\x0f\\xe1V\\x91H\\xe4\\xd9\\xb3g\\xcb\\xcb\\xcb\\xd1h\\xd4\\x18S\\xab\\xd5|>_\\xa1P\\xd8\\xd8\\xd88<<\\xc4\\r\\x08\\xd7\\x08!\\x00\\xf4\\xf7\\xf7?~\\xfcx}}=\\x1e\\x8f;\\x8eCD\\x00\\xce\\xcf\\xcf766\\x0e\\x0e\\x0e\\x00(\\xa5\\\\\\xd7E\\'\\x84\\x16\\xe4\\xe9\\xed\\xed\\xcdd2###\\xb1X\\xec\\xd7\\xaf_J)\\xbf\\xdf\\x7fvv\\xf6\\xfe\\xfd\\xfbl6\\xeb8\\x0e<B\\x08c\\x0c:!\\xb4x\\xf2\\xe4\\xc9\\xca\\xcaJ<\\x1e\\x8f\\xc5b\\x7f\\xfe\\xfc\\t\\x87\\xc3WWW\\xd5j5\\x93\\xc9|\\xfc\\xf8\\xf1\\xf2\\xf2RJ\\xa9\\xb5VJ\\x19c\\xd8\\x83N\\x08-\\xde\\xbcy\\xb3\\xbc\\xbc\\xac\\x94\\xfa\\xfb\\xf7o\\xb9\\\\\\xde\\xdf\\xdf\\xf7\\xfb\\xfd\\x1f>|\\xa8T*\\x00\\x98\\x19\\x003\\x0b!\\x8c\\x077 \\xb4\\x0b\\x04\\x02\\xb6mK)\\x85\\x10\\xc6\\x18\\xad5\\xae\\x11B03\\x00fF\\'\\x84vB\\x08c\\x0c\\x00)%\\x00\\xad5\\x1113Z\\x10\\x11<\\xcc\\x8cN\\x08\\xed\\x88\\x08\\x80\\x94\\xd2x\\x00\\x10\\x11n\\xc0\\xcc\\xe8\\xe4?\\xf4b\\xb3,\\xe8\\x0b)\\xaf\\x00\\x00\\x00\\x00IEND\\xaeB`\\x82' is not JSON serializable"
     ]
    }
   ],
   "source": [
    "video_emitter(cfront_url)"
   ]
  },
  {
   "cell_type": "code",
   "execution_count": 49,
   "metadata": {},
   "outputs": [
    {
     "data": {
      "text/plain": [
       "str"
      ]
     },
     "execution_count": 49,
     "metadata": {},
     "output_type": "execute_result"
    }
   ],
   "source": [
    "ret, jpeg = cv2.imencode('.png', pixels)\n",
    "type(jpeg.tobytes().decode('latin1'))"
   ]
  },
  {
   "cell_type": "code",
   "execution_count": 51,
   "metadata": {},
   "outputs": [
    {
     "data": {
      "text/plain": [
       "b'ass'"
      ]
     },
     "execution_count": 51,
     "metadata": {},
     "output_type": "execute_result"
    }
   ],
   "source": [
    "'ass'.encode('latin1')"
   ]
  },
  {
   "cell_type": "code",
   "execution_count": null,
   "metadata": {},
   "outputs": [],
   "source": []
  }
 ],
 "metadata": {
  "kernelspec": {
   "display_name": "Python 3",
   "language": "python",
   "name": "python3"
  },
  "language_info": {
   "codemirror_mode": {
    "name": "ipython",
    "version": 3
   },
   "file_extension": ".py",
   "mimetype": "text/x-python",
   "name": "python",
   "nbconvert_exporter": "python",
   "pygments_lexer": "ipython3",
   "version": "3.6.2"
  }
 },
 "nbformat": 4,
 "nbformat_minor": 2
}
